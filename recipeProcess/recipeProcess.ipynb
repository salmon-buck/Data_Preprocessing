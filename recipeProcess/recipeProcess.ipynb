{
 "cells": [
  {
   "cell_type": "code",
   "execution_count": 1,
   "metadata": {},
   "outputs": [],
   "source": [
    "import re\n",
    "import nltk\n",
    "import os\n",
    "from nltk.corpus import stopwords\n",
    "from nltk.stem.snowball import SnowballStemmer\n",
    "from nltk.stem import WordNetLemmatizer\n",
    "\n",
    "wordnet_lemmatizer = WordNetLemmatizer()\n",
    "stemmer = SnowballStemmer('english')\n",
    "\n",
    "def preProcessing(example):\n",
    "    letters_only = re.sub('[^a-zA-Z]', ' ', example)\n",
    "    lower_case = letters_only.lower()\n",
    "    words = lower_case.split()\n",
    "    words = [w for w in words if not w in stopwords.words('english')]\n",
    "    words = [stemmer.stem(w) for w in words]\n",
    "    words = [wordnet_lemmatizer.lemmatize(w) for w in words]\n",
    "    return words"
   ]
  },
  {
   "cell_type": "code",
   "execution_count": 2,
   "metadata": {
    "scrolled": false
   },
   "outputs": [],
   "source": [
    "#순번 / 음식명 / 음식소개 / 국가 / 재료 / 레시피 / 조리시간 / 이미지 주소\n",
    "\n",
    "f = open('recipe.txt', 'rt', encoding='UTF8')\n",
    "list = []\n",
    "\n",
    "for i in range(100):\n",
    "    line = f.readline()\n",
    "    lines = line.split(';')\n",
    "    #print(i)\n",
    "    \n",
    "    description = preProcessing(lines[2])\n",
    "    ingredient = preProcessing(lines[4])\n",
    "    \n",
    "    lines[2] = \",\".join(description)\n",
    "    lines[4] = \",\".join(ingredient)\n",
    "    \n",
    "    filename = str(lines[1]) + \".txt\"\n",
    "    \n",
    "    list.append(filename)\n",
    "    \n",
    "    #print(filename)\n",
    "    if os.path.isfile(filename):\n",
    "        df = open(filename, 'rt', encoding='UTF8')\n",
    "        des = \"\"\n",
    "        for j in range(2):\n",
    "            des = df.readline()\n",
    "        lines[2] = lines[2] +\",\" + des[:-1]\n",
    "        df.close()\n",
    "      \n",
    "    nf = open(filename, 'wt', encoding='UTF8')\n",
    "    \n",
    "    for j in range(1,len(lines)):\n",
    "        nf.writelines(lines[j])\n",
    "        nf.write('\\n')\n",
    "    nf.close()\n",
    "    \n",
    "f.close()"
   ]
  }
 ],
 "metadata": {
  "kernelspec": {
   "display_name": "Python 3",
   "language": "python",
   "name": "python3"
  },
  "language_info": {
   "codemirror_mode": {
    "name": "ipython",
    "version": 3
   },
   "file_extension": ".py",
   "mimetype": "text/x-python",
   "name": "python",
   "nbconvert_exporter": "python",
   "pygments_lexer": "ipython3",
   "version": "3.7.3"
  }
 },
 "nbformat": 4,
 "nbformat_minor": 2
}
