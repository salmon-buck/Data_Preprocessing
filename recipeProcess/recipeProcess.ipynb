{
 "cells": [
  {
   "cell_type": "code",
   "execution_count": 1,
   "metadata": {},
   "outputs": [],
   "source": [
    "import re\n",
    "import nltk\n",
    "import os\n",
    "from nltk.corpus import stopwords\n",
    "from nltk.stem.snowball import SnowballStemmer\n",
    "from nltk.stem import WordNetLemmatizer\n",
    "\n",
    "wordnet_lemmatizer = WordNetLemmatizer()\n",
    "stemmer = SnowballStemmer('english')\n",
    "\n",
    "def preProcessing(example):\n",
    "    letters_only = re.sub('[^a-zA-Z]', ' ', example)\n",
    "    lower_case = letters_only.lower()\n",
    "    words = lower_case.split()\n",
    "    words = [w for w in words if not w in stopwords.words('english')]\n",
    "    words = [stemmer.stem(w) for w in words]\n",
    "    words = [wordnet_lemmatizer.lemmatize(w) for w in words]\n",
    "    return words"
   ]
  },
  {
   "cell_type": "code",
   "execution_count": 4,
   "metadata": {
    "scrolled": false
   },
   "outputs": [],
   "source": [
    "#순번 / 음식명 / 음식소개 / 국가 / 재료 / 레시피 / 조리시간 / 이미지 주소\n",
    "\n",
    "f = open('recipe.txt', 'rt', encoding='UTF8')\n",
    "list = []\n",
    "\n",
    "for i in range(100):\n",
    "    line = f.readline()\n",
    "    lines = line.split(';')\n",
    "    #print(i)\n",
    "    \n",
    "    description = preProcessing(lines[2])\n",
    "    ingredient = preProcessing(lines[4])\n",
    "    \n",
    "    lines[2] = \",\".join(description)\n",
    "    lines[4] = \",\".join(ingredient)\n",
    "    \n",
    "    filename = str(lines[1]) + \".txt\"\n",
    "    \n",
    "    list.append(filename)\n",
    "    \n",
    "    #print(filename)\n",
    "    if os.path.isfile(filename):\n",
    "        df = open(filename, 'rt', encoding='UTF8')\n",
    "        des = \"\"\n",
    "        for j in range(2):\n",
    "            des = df.readline()\n",
    "        lines[2] = lines[2] +\",\" + des[:-1]\n",
    "        df.close()\n",
    "      \n",
    "    nf = open(filename, 'wt', encoding='UTF8')\n",
    "    \n",
    "    for j in range(1,len(lines)):\n",
    "        nf.writelines(lines[j])\n",
    "        nf.write('\\n')\n",
    "    nf.close()\n",
    "    \n",
    "f.close()"
   ]
  },
  {
   "cell_type": "code",
   "execution_count": 5,
   "metadata": {},
   "outputs": [
    {
     "name": "stdout",
     "output_type": "stream",
     "text": [
      "dict_keys(['Turkey Burritos', 'Tacos Al Pastor', 'Shrimp Egg Rolls', 'Instant Pot Chicken Tortilla Soup', 'Slow Cooker Quinoa Enchilada Casserole', 'Breakfast Taquitos', 'Mexican Street Corn Nachos', 'One Pot Mexican Skillet Pasta', 'Creamy Taco Shells', 'Beef Enchilada Dip', 'Caprese Avocado Salad', 'Baked Tomato Bruschetta', 'Shrimp Carbonara', 'Sema Chicken', 'Miso Soup With Vermicelli, Mushrooms And Tofu', 'Instant Pot Mushroom Risotto', 'Turkey and Spinach Veggie Lasagna', 'Italian Wedding Soup', 'Italian Baked Eggs', 'Italian Meatball Sandwiches', 'Asian Garlic Noodles', 'Tofu Soba Noodles', 'Pineapple Fried Rice', 'Chinese Orange Chicken', 'Chinese Chicken Salad', 'Chinese Beef with Broccoli', 'Easy Chow Mein', 'Korean Beef Bulgogi', 'Korean Beef Tacos', 'Korean Chicken Kabobs', 'Slow Cooker Indian Butter Chicken', 'Easy Chicken Tikka Masala', 'Roasted Leg of Lamb', 'Korean Beef Lettuce Wraps', 'Roasted Shrimp Enchiladas with Jalapeno Cream Sauce', 'Deep Dish Chicago Style Pizza', 'Bacon and Egg Toast Cups', 'Ham Egg and Cheese Pockets', 'White Mushroom Pizza', 'Reuben Grilled Cheese', 'Chicken Khao Soi', 'Thai Basil Chicken Bowls', 'Thai Red Curry Noodle Soup', 'Thai Green Curry Chicken Soup', 'Thai Sweet Potato and Carrot Soup', 'Thai Chicken Buddha Bowls', 'Thai Peanut Chicken Noodles', 'Thai Coconut Curry Chicken', 'Easy Thai Chicken', 'Easy Thai Shrimp Soup', 'Slow Cooker Korean Beef', 'Korean Beef Bowl', 'Korean Fried Chicken', 'Zucchini Corn Pancakes', 'Korean Curry', 'Best Ever Classic Macaroni Salad', 'Easy Korean BBQ', 'Kalbi Steak Kimchi Grilled Cheese', 'Pork And Kimchi Potstickers', 'Korean Beef Zucchini Noodles', 'Tonkatsu', 'ZARU SOBA', 'Clean out the Fridge Miso Ramen', 'Individual Strawberry Pie', 'Kimchi Fried Rice', 'Shrimp Potstickers', 'Vegetable Potstickers', 'Mushroom Ramen', 'Slow Cooker Asian Short Ribs', 'Spam Fried Rice', 'Pork Potstickers', 'Baby Back Ribs with Balsamic Peach BBQ Sauce', 'Garlic Ginger Chicken Potstickers', 'Stuffed Green Chili Con Queso Cheeseburger Sliders', 'Bacon Breakfast Pizza', 'Sesame Chicken Potstickers', 'Potstickers', 'Shrimp Dumplings', 'Bacon Wrapped Teriyaki Hot Dogs With Pineapple Salsa', 'Asian-Style Cobb Salad', 'Spicy Tofu Lettuce Wraps', 'Hoisin Asian Meatballs', 'Roasted Shrimp Quinoa Spring Rolls', 'Coconut Curry Chicken Soup', 'Quinoa Veggie Fride Rice', 'Pork And Asparagus With Hoisin Sauce', 'Asian Style Chicken Nuggets With Lemon Glaze', 'Honey Teriyaki Hot Wings', 'Pork B1elly Dliders', 'Sweet And Sour Stir-Fried Chicken', 'Pinoy Spaghetti', 'Pancetta Fried Rice', 'Teriyaki Salmon With Sriracha Cream Sauce', 'Asian Quinoa salad', 'Slow Cooker Corn Chowder', 'Asian Style Nachos', 'Tofu soba noodles', 'Honey Walnut Shrimp', 'Thai Red Curry Soup', 'Shrimp Spring Rolls With Hoisin peanut dip'])\n"
     ]
    }
   ],
   "source": [
    "#순번 / 음식명 / 음식소개 / 국가 / 재료 / 레시피 / 조리시간 / 이미지 주소\n",
    "# + 딕셔너리 사용\n",
    "\n",
    "f = open('recipe.txt', 'rt', encoding='UTF8')\n",
    "list = []\n",
    "db = {}\n",
    "for i in range(100):\n",
    "    dic = {}\n",
    "    line = f.readline()\n",
    "    lines = line.split(';')\n",
    "    #print(i)\n",
    "    \n",
    "    rname = lines[1]\n",
    "    rname = str.strip(rname)\n",
    "    description = preProcessing(lines[2])\n",
    "    ingredient = preProcessing(lines[4])\n",
    "    \n",
    "    dic['name']=rname\n",
    "    dic['description'] = description\n",
    "    dic['country']=str.strip(lines[3])\n",
    "    dic['ingredient'] = ingredient\n",
    "    dic['recipe'] = str.strip(lines[5])\n",
    "    dic['time'] = str.strip(lines[6])\n",
    "    dic['ImageUrl']= str.strip(lines[7])\n",
    "    db[rname] = dic\n",
    "f.close()\n",
    "\n",
    "print(db.keys())"
   ]
  }
 ],
 "metadata": {
  "kernelspec": {
   "display_name": "Python 3",
   "language": "python",
   "name": "python3"
  },
  "language_info": {
   "codemirror_mode": {
    "name": "ipython",
    "version": 3
   },
   "file_extension": ".py",
   "mimetype": "text/x-python",
   "name": "python",
   "nbconvert_exporter": "python",
   "pygments_lexer": "ipython3",
   "version": "3.7.3"
  }
 },
 "nbformat": 4,
 "nbformat_minor": 2
}
